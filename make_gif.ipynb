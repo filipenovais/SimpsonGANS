{
 "cells": [
  {
   "cell_type": "code",
   "execution_count": null,
   "id": "0313b51b",
   "metadata": {},
   "outputs": [],
   "source": [
    "import torch\n",
    "\n",
    "model_path = 'Simpsons_train3/'"
   ]
  },
  {
   "cell_type": "code",
   "execution_count": null,
   "id": "bfbf001d",
   "metadata": {},
   "outputs": [],
   "source": [
    "#Generator\n",
    "dim = 64\n",
    "dim_noise = 120\n",
    "class GeneratorNet(torch.nn.Module):\n",
    "    \"\"\"\n",
    "    A three hidden-layer generative neural network\n",
    "    \"\"\"\n",
    "    def __init__(self):\n",
    "        super(GeneratorNet, self).__init__()\n",
    "        n_features = dim_noise\n",
    "        n_out = dim*dim*3\n",
    "        factor_n = 0.5\n",
    "        self.hidden0 = torch.nn.Sequential(\n",
    "            torch.nn.Linear(n_features, int(256*factor_n)),\n",
    "            torch.nn.LeakyReLU(0.2)\n",
    "        )\n",
    "        self.hidden1 = torch.nn.Sequential(            \n",
    "            torch.nn.Linear(int(256*factor_n), int(512*factor_n)),\n",
    "            torch.nn.LeakyReLU(0.2)\n",
    "        )\n",
    "        self.hidden2 = torch.nn.Sequential(\n",
    "            torch.nn.Linear(int(512*factor_n), int(1024*factor_n)),\n",
    "            torch.nn.LeakyReLU(0.2)\n",
    "        )\n",
    "        \n",
    "        self.out = torch.nn.Sequential(\n",
    "            torch.nn.Linear(int(1024*factor_n), n_out),\n",
    "            torch.nn.Tanh()\n",
    "        )\n",
    "\n",
    "    def forward(self, x):\n",
    "        x = self.hidden0(x)\n",
    "        x = self.hidden1(x)\n",
    "        x = self.hidden2(x)\n",
    "        x = self.out(x)\n",
    "        return x"
   ]
  },
  {
   "cell_type": "code",
   "execution_count": null,
   "id": "62076001",
   "metadata": {},
   "outputs": [],
   "source": [
    "# LOAD MODEL\n",
    "import pickle\n",
    "\n",
    "objectRep = open(model_path+'generator.model', 'rb')\n",
    "generator = pickle.load(objectRep)\n",
    "print(model_path+' generator loaded')"
   ]
  },
  {
   "cell_type": "code",
   "execution_count": null,
   "id": "b679ae27",
   "metadata": {},
   "outputs": [],
   "source": [
    "#MAKE GIF!!!!\n",
    "import imageio\n",
    "import os\n",
    "\n",
    "images_path = './'+model_path+'train_images'\n",
    "name_list = os.listdir(images_path)\n",
    "full_list = [os.path.join(images_path,i) for i in name_list]\n",
    "time_sorted_list = sorted(full_list, key=os.path.getmtime)\n",
    "\n",
    "images_to_gif = []\n",
    "for filename in time_sorted_list[0::1]:\n",
    "    images_to_gif.append(imageio.imread(filename))\n",
    "\n",
    "time_per_image = 0.15\n",
    "gif_path = model_path+'training_visual.gif'\n",
    "imageio.mimsave(gif_path, images_to_gif, duration=time_per_image)\n",
    "\n",
    "print(f'Gif saved in: {gif_path}\\nSize: {len(images_to_gif)} images')"
   ]
  }
 ],
 "metadata": {
  "colab": {
   "name": "Untitled-Copy1.ipynb",
   "provenance": []
  },
  "kernelspec": {
   "display_name": "Python 3 (ipykernel)",
   "language": "python",
   "name": "python3"
  },
  "language_info": {
   "codemirror_mode": {
    "name": "ipython",
    "version": 3
   },
   "file_extension": ".py",
   "mimetype": "text/x-python",
   "name": "python",
   "nbconvert_exporter": "python",
   "pygments_lexer": "ipython3",
   "version": "3.11.5"
  }
 },
 "nbformat": 4,
 "nbformat_minor": 5
}
